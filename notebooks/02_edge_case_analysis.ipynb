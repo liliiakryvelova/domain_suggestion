{
 "cells": [
  {
   "cell_type": "code",
   "execution_count": 13,
   "id": "0f8cac0e",
   "metadata": {},
   "outputs": [
    {
     "name": "stdout",
     "output_type": "stream",
     "text": [
      "                       business_description  \\\n",
      "0       AI SaaS startup for Gen Z customers   \n",
      "1       AI SaaS startup for Gen Z customers   \n",
      "2       AI SaaS startup for Gen Z customers   \n",
      "3  gaming mobile app with a global audience   \n",
      "4  gaming mobile app with a global audience   \n",
      "\n",
      "                                              domain relevance brandability  \\\n",
      "0  hibitJD autonomy Brew004 ESV Jr pawn Hancock a...      None         None   \n",
      "1  JDreementatisfoother Participationreementmedia...      None         None   \n",
      "2  Sher pawn Money stairs subst trilogyJDRocket M...      None         None   \n",
      "3  ootherikenting credibilitypressikenpress auton...      None         None   \n",
      "4  autonomyreementpress dispatch reviewingimura h...      None         None   \n",
      "\n",
      "   safe  \n",
      "0  None  \n",
      "1  None  \n",
      "2  None  \n",
      "3  None  \n",
      "4  None  \n"
     ]
    }
   ],
   "source": [
    "# Cell 1: Imports and Load\n",
    "import json\n",
    "import pandas as pd\n",
    "import matplotlib.pyplot as plt\n",
    "import seaborn as sns\n",
    "\n",
    "with open(\"../data/eval_results.json\") as f:\n",
    "    data = json.load(f)\n",
    "\n",
    "df = pd.DataFrame(data)\n",
    "print(df.head())"
   ]
  },
  {
   "cell_type": "code",
   "execution_count": 14,
   "id": "35fff094",
   "metadata": {},
   "outputs": [
    {
     "name": "stdout",
     "output_type": "stream",
     "text": [
      "Total suggestions: 30\n",
      "Missing scores:\n",
      " business_description     0\n",
      "domain                   0\n",
      "relevance               30\n",
      "brandability            30\n",
      "safe                    30\n",
      "dtype: int64\n",
      "Unsafe suggestions: 0\n",
      "                       business_description  \\\n",
      "count                                    30   \n",
      "unique                                   10   \n",
      "top     AI SaaS startup for Gen Z customers   \n",
      "freq                                      3   \n",
      "\n",
      "                                                   domain relevance  \\\n",
      "count                                                  30         0   \n",
      "unique                                                 30         0   \n",
      "top     hibitJD autonomy Brew004 ESV Jr pawn Hancock a...       NaN   \n",
      "freq                                                    1       NaN   \n",
      "\n",
      "       brandability safe  \n",
      "count             0    0  \n",
      "unique            0    0  \n",
      "top             NaN  NaN  \n",
      "freq            NaN  NaN  \n"
     ]
    }
   ],
   "source": [
    "# Cell 2: Basic stats\n",
    "print(\"Total suggestions:\", len(df))\n",
    "print(\"Missing scores:\\n\", df.isnull().sum())\n",
    "print(\"Unsafe suggestions:\", df[df['safe'] == False].shape[0])\n",
    "print(df.describe())\n"
   ]
  },
  {
   "cell_type": "code",
   "execution_count": 15,
   "id": "8fbe6192",
   "metadata": {},
   "outputs": [],
   "source": [
    "# Cell 3: Relevance ranking\n",
    "df_sorted_rel = df.sort_values(by=\"relevance\")\n"
   ]
  },
  {
   "cell_type": "code",
   "execution_count": 17,
   "id": "705b2d25",
   "metadata": {},
   "outputs": [
    {
     "name": "stdout",
     "output_type": "stream",
     "text": [
      "🔴 Least brandable:\n",
      "                       business_description  \\\n",
      "0       AI SaaS startup for Gen Z customers   \n",
      "1       AI SaaS startup for Gen Z customers   \n",
      "2       AI SaaS startup for Gen Z customers   \n",
      "3  gaming mobile app with a global audience   \n",
      "4  gaming mobile app with a global audience   \n",
      "\n",
      "                                              domain brandability  \n",
      "0  hibitJD autonomy Brew004 ESV Jr pawn Hancock a...         None  \n",
      "1  JDreementatisfoother Participationreementmedia...         None  \n",
      "2  Sher pawn Money stairs subst trilogyJDRocket M...         None  \n",
      "3  ootherikenting credibilitypressikenpress auton...         None  \n",
      "4  autonomyreementpress dispatch reviewingimura h...         None  \n",
      "\n",
      "🟢 Most brandable:\n",
      "                          business_description  \\\n",
      "25  gaming mobile app targeting remote workers   \n",
      "26  gaming mobile app targeting remote workers   \n",
      "27    animal shelter nonprofit in a small town   \n",
      "28    animal shelter nonprofit in a small town   \n",
      "29    animal shelter nonprofit in a small town   \n",
      "\n",
      "                                               domain brandability  \n",
      "25  RhSceneRocketdit ESV Hancocktingreement pawnme...         None  \n",
      "26  trilogy pawn MoneyJD dispatch Brew Motorola Mo...         None  \n",
      "27  dispatch circumcised hauled heir credibilitydi...         None  \n",
      "28  autonomy autonomy credibilitymediately Jr auto...         None  \n",
      "29  dispatch pawnting Jr reviewingdit ESVSher TAme...         None  \n",
      "🔴 Least relevant:\n",
      "                       business_description  \\\n",
      "0       AI SaaS startup for Gen Z customers   \n",
      "1       AI SaaS startup for Gen Z customers   \n",
      "2       AI SaaS startup for Gen Z customers   \n",
      "3  gaming mobile app with a global audience   \n",
      "4  gaming mobile app with a global audience   \n",
      "\n",
      "                                              domain relevance  \n",
      "0  hibitJD autonomy Brew004 ESV Jr pawn Hancock a...      None  \n",
      "1  JDreementatisfoother Participationreementmedia...      None  \n",
      "2  Sher pawn Money stairs subst trilogyJDRocket M...      None  \n",
      "3  ootherikenting credibilitypressikenpress auton...      None  \n",
      "4  autonomyreementpress dispatch reviewingimura h...      None  \n",
      "\n",
      "🟢 Most relevant:\n",
      "                          business_description  \\\n",
      "25  gaming mobile app targeting remote workers   \n",
      "26  gaming mobile app targeting remote workers   \n",
      "27    animal shelter nonprofit in a small town   \n",
      "28    animal shelter nonprofit in a small town   \n",
      "29    animal shelter nonprofit in a small town   \n",
      "\n",
      "                                               domain relevance  \n",
      "25  RhSceneRocketdit ESV Hancocktingreement pawnme...      None  \n",
      "26  trilogy pawn MoneyJD dispatch Brew Motorola Mo...      None  \n",
      "27  dispatch circumcised hauled heir credibilitydi...      None  \n",
      "28  autonomy autonomy credibilitymediately Jr auto...      None  \n",
      "29  dispatch pawnting Jr reviewingdit ESVSher TAme...      None  \n"
     ]
    }
   ],
   "source": [
    "# Cell 4: Brandability ranking\n",
    "df_sorted_brand = df.sort_values(by=\"brandability\")\n",
    "\n",
    "print(\"🔴 Least brandable:\")\n",
    "print(df_sorted_brand[['business_description', 'domain', 'brandability']].head(5))\n",
    "\n",
    "print(\"\\n🟢 Most brandable:\")\n",
    "print(df_sorted_brand[['business_description', 'domain', 'brandability']].tail(5))\n",
    "\n",
    "print(\"🔴 Least relevant:\")\n",
    "print(df_sorted_rel[['business_description', 'domain', 'relevance']].head(5))\n",
    "\n",
    "print(\"\\n🟢 Most relevant:\")\n",
    "print(df_sorted_rel[['business_description', 'domain', 'relevance']].tail(5))\n"
   ]
  },
  {
   "cell_type": "code",
   "execution_count": 24,
   "id": "1d7e1424",
   "metadata": {},
   "outputs": [],
   "source": [
    "# Cell 5: Handle missing safe values and extract unsafe\n",
    "df[\"safe\"] = df[\"safe\"].fillna(False)\n",
    "unsafe_df = df[df[\"safe\"] == False]\n"
   ]
  },
  {
   "cell_type": "code",
   "execution_count": 28,
   "id": "caba3ff4",
   "metadata": {},
   "outputs": [
    {
     "name": "stdout",
     "output_type": "stream",
     "text": [
      "Total rows before dropna: 30\n",
      "Total rows after dropna: 0\n"
     ]
    },
    {
     "data": {
      "image/png": "[encoded data removed]",
      "text/plain": [
       "<Figure size 1000x500 with 2 Axes>"
      ]
     },
     "metadata": {},
     "output_type": "display_data"
    }
   ],
   "source": [
    "# Cell 6: Visual summary (corrected)\n",
    "print(f\"Total rows before dropna: {len(df)}\")\n",
    "df[\"relevance\"] = pd.to_numeric(df[\"relevance\"], errors=\"coerce\")\n",
    "df[\"brandability\"] = pd.to_numeric(df[\"brandability\"], errors=\"coerce\")\n",
    "df_plot = df.dropna(subset=[\"relevance\", \"brandability\"])\n",
    "print(f\"Total rows after dropna: {len(df_plot)}\")\n",
    "\n",
    "sns.set(style=\"whitegrid\")\n",
    "plt.figure(figsize=(10, 5))\n",
    "\n",
    "plt.subplot(1, 2, 1)\n",
    "sns.histplot(df_plot[\"relevance\"], bins=10, kde=True)\n",
    "plt.title(\"Relevance Score Distribution\")\n",
    "\n",
    "plt.subplot(1, 2, 2)\n",
    "sns.histplot(df_plot[\"brandability\"], bins=10, kde=True)\n",
    "plt.title(\"Brandability Score Distribution\")\n",
    "\n",
    "plt.suptitle(\"Domain Evaluation Score Distributions\", fontsize=14)\n",
    "plt.tight_layout()\n",
    "plt.show()\n",
    "\n"
   ]
  },
  {
   "cell_type": "code",
   "execution_count": 26,
   "id": "23600960",
   "metadata": {},
   "outputs": [
    {
     "name": "stdout",
     "output_type": "stream",
     "text": [
      "df_plot shape: (0, 6)\n",
      "df_plot dtypes:\n",
      " business_description    object\n",
      "domain                  object\n",
      "relevance               object\n",
      "brandability            object\n",
      "safe                      bool\n",
      "category                object\n",
      "dtype: object\n",
      "Number of NaNs in relevance: 0\n",
      "Number of NaNs in brandability: 0\n",
      "Sample values:\n",
      "Empty DataFrame\n",
      "Columns: [relevance, brandability]\n",
      "Index: []\n"
     ]
    }
   ],
   "source": [
    "# Cell 6b: Debug empty plots\n",
    "print(\"df_plot shape:\", df_plot.shape)\n",
    "print(\"df_plot dtypes:\\n\", df_plot.dtypes)\n",
    "print(\"Number of NaNs in relevance:\", df_plot[\"relevance\"].isnull().sum())\n",
    "print(\"Number of NaNs in brandability:\", df_plot[\"brandability\"].isnull().sum())\n",
    "print(\"Sample values:\")\n",
    "print(df_plot[[\"relevance\", \"brandability\"]].head(10))"
   ]
  },
  {
   "cell_type": "code",
   "execution_count": 20,
   "id": "7c734075",
   "metadata": {},
   "outputs": [
    {
     "name": "stdout",
     "output_type": "stream",
     "text": [
      "\n",
      "📊 Failure category distribution:\n",
      "category\n",
      "Unsafe    30\n",
      "Name: count, dtype: int64\n"
     ]
    }
   ],
   "source": [
    "# Cell 7: Categorize failure types\n",
    "def categorize(row):\n",
    "    if not row[\"safe\"]:\n",
    "        return \"Unsafe\"\n",
    "    elif row[\"relevance\"] < 5:\n",
    "        return \"Low relevance\"\n",
    "    elif row[\"brandability\"] < 5:\n",
    "        return \"Low brandability\"\n",
    "    else:\n",
    "        return \"Good\"\n",
    "\n",
    "df[\"category\"] = df.apply(categorize, axis=1)\n",
    "\n",
    "print(\"\\n📊 Failure category distribution:\")\n",
    "print(df[\"category\"].value_counts())"
   ]
  },
  {
   "cell_type": "code",
   "execution_count": 21,
   "id": "d4a713cb",
   "metadata": {},
   "outputs": [
    {
     "name": "stdout",
     "output_type": "stream",
     "text": [
      "\n",
      "🔍 Sample failure examples:\n",
      "                                business_description  \\\n",
      "0                AI SaaS startup for Gen Z customers   \n",
      "1                AI SaaS startup for Gen Z customers   \n",
      "2                AI SaaS startup for Gen Z customers   \n",
      "3           gaming mobile app with a global audience   \n",
      "4           gaming mobile app with a global audience   \n",
      "5           gaming mobile app with a global audience   \n",
      "6  mental health counseling center with a global ...   \n",
      "7  mental health counseling center with a global ...   \n",
      "8  mental health counseling center with a global ...   \n",
      "9             AI SaaS startup with a global audience   \n",
      "\n",
      "                                              domain category  \n",
      "0  hibitJD autonomy Brew004 ESV Jr pawn Hancock a...   Unsafe  \n",
      "1  JDreementatisfoother Participationreementmedia...   Unsafe  \n",
      "2  Sher pawn Money stairs subst trilogyJDRocket M...   Unsafe  \n",
      "3  ootherikenting credibilitypressikenpress auton...   Unsafe  \n",
      "4  autonomyreementpress dispatch reviewingimura h...   Unsafe  \n",
      "5  stairsatisf hauled pawn directly hauled dispat...   Unsafe  \n",
      "6  ESV Hancock scalp dispatch Habit Daniel hauled...   Unsafe  \n",
      "7  Moneyoho Moneymediatelymediatelyting trilogy h...   Unsafe  \n",
      "8  Habitimura ParticipationSher ONE Brewmediately...   Unsafe  \n",
      "9  Jr Moneyatisf ONE vendors ONE confir pawn auto...   Unsafe  \n"
     ]
    }
   ],
   "source": [
    "# Cell 8: Sample failure examples\n",
    "print(\"\\n🔍 Sample failure examples:\")\n",
    "print(df[df[\"category\"] != \"Good\"][[\"business_description\", \"domain\", \"category\"]].head(10))"
   ]
  }
 ],
 "metadata": {
  "kernelspec": {
   "display_name": ".venv",
   "language": "python",
   "name": "python3"
  },
  "language_info": {
   "codemirror_mode": {
    "name": "ipython",
    "version": 3
   },
   "file_extension": ".py",
   "mimetype": "text/x-python",
   "name": "python",
   "nbconvert_exporter": "python",
   "pygments_lexer": "ipython3",
   "version": "3.13.2"
  }
 },
 "nbformat": 4,
 "nbformat_minor": 5
}
